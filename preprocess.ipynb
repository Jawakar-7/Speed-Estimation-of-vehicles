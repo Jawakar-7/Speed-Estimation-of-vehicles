{
 "cells": [
  {
   "cell_type": "code",
   "execution_count": 1,
   "metadata": {},
   "outputs": [],
   "source": [
    "import os\n",
    "import xml.etree.ElementTree as ET\n",
    "import matplotlib.pyplot as plt\n",
    "import matplotlib.patches as patches\n",
    "import cv2"
   ]
  },
  {
   "cell_type": "code",
   "execution_count": 2,
   "metadata": {},
   "outputs": [],
   "source": [
    "classes={'car': 0, 'van': 1, 'others': 2, 'bus': 3}\n",
    "classs_id={b:a for (a,b) in classes.items()}"
   ]
  },
  {
   "cell_type": "code",
   "execution_count": 3,
   "metadata": {},
   "outputs": [],
   "source": [
    "def chfname(namee):\n",
    "    num=int(namee[3:])\n",
    "    num=num+1\n",
    "    return str(namee[:3])+f\"{num:05d}\""
   ]
  },
  {
   "cell_type": "code",
   "execution_count": null,
   "metadata": {},
   "outputs": [],
   "source": [
    "origin=\"C:\\\\Msc DS\\\\Speed-Estimation-of-vehicles\"\n",
    "os.chdir(origin)"
   ]
  },
  {
   "cell_type": "markdown",
   "metadata": {},
   "source": [
    "## preprocessing and saving\n"
   ]
  },
  {
   "cell_type": "code",
   "execution_count": 7,
   "metadata": {},
   "outputs": [],
   "source": [
    "for i in os.listdir(os.path.join(os.getcwd(),'XMLfiles')):\n",
    "        \n",
    "        tree = ET.parse(os.path.join(os.getcwd(),'XMLfiles',i))\n",
    "        root = tree.getroot()\n",
    "        sequence_name = root.attrib['name']\n",
    "        camera_state = root.find('sequence_attribute').attrib['camera_state']\n",
    "        sence_weather = root.find('sequence_attribute').attrib['sence_weather']\n",
    "        wd=str(sequence_name)+\"_\"+str(camera_state)+\"_\"+str(sence_weather)\n",
    "        wd=os.path.join(\"C:\\Msc DS\\Speed-Estimation-of-vehicles\\preprocessed\",wd)\n",
    "        try:\n",
    "                os.makedirs(wd)\n",
    "        except:\n",
    "                pass\n",
    "        os.chdir(wd)\n",
    "        filename='img00001'\n",
    "        for frame in root.findall('frame'):\n",
    "                f = open(str(filename)+\".txt\", \"w\")\n",
    "                for target in frame.findall('target_list/target'):    \n",
    "                        clasas = classes[ target.find('attribute').attrib['vehicle_type']] \n",
    "                        box = target.find('box')\n",
    "                        left = box.attrib['left']\n",
    "                        top = box.attrib['top']\n",
    "                        width = box.attrib['width']\n",
    "                        height = box.attrib['height']   \n",
    "                        xcen=(float(left)+float(width))/2 \n",
    "                        ycen=(float(top)+float(height))/2 \n",
    "                        content=str(clasas)+' '+str(left)+' '+str(top)+' '+str(width)+' '+str(height)+\"\\n\"\n",
    "                        f.write(content)\n",
    "                filename=chfname(filename)\n",
    "        os.chdir(origin)\n",
    "        "
   ]
  },
  {
   "cell_type": "markdown",
   "metadata": {},
   "source": [
    "### show images"
   ]
  },
  {
   "cell_type": "code",
   "execution_count": 61,
   "metadata": {},
   "outputs": [],
   "source": [
    "def show_images(image_path,txtpth):\n",
    "    image = cv2.imread(image_path)\n",
    "    boxes=[]\n",
    "    with open(txtpth) as file:\n",
    "        for item in file:\n",
    "           boxes.append(item.split())\n",
    "    for box in boxes:\n",
    "        class_id, left, top, width, height = map(float, box)\n",
    "        right = left + width\n",
    "        bottom = top + height\n",
    "        color = (0, 255, 0)  # Green color\n",
    "        thickness = 2\n",
    "        org = (int(left), int(top) - 10)\n",
    "        cv2.rectangle(image, (int(left), int(top)), (int(right), int(bottom)), color, thickness)\n",
    "        cv2.putText(image,classs_id[class_id],org, cv2.FONT_HERSHEY_SIMPLEX, 0.5, color, 2)\n",
    "\n",
    "    cv2.imshow('Image with Bounding Boxes', image)\n",
    "    cv2.waitKey(0)\n",
    "    cv2.destroyAllWindows()\n",
    "    \n",
    "    "
   ]
  },
  {
   "cell_type": "code",
   "execution_count": 62,
   "metadata": {},
   "outputs": [],
   "source": [
    "txtpth=\"C:\\\\Msc DS\\\\Speed-Estimation-of-vehicles\\\\preprocessed\\\\MVI_20011_unstable_sunny\\\\img00001.txt\"\n",
    "image_path = \"C:\\\\Msc DS\\\\Speed-Estimation-of-vehicles\\\\Vid_files\\MVI_20011\\\\img00001.jpg\" \n",
    "show_images(image_path,txtpth)\n"
   ]
  },
  {
   "cell_type": "code",
   "execution_count": 1,
   "metadata": {},
   "outputs": [
    {
     "ename": "NameError",
     "evalue": "name 'os' is not defined",
     "output_type": "error",
     "traceback": [
      "\u001b[1;31m---------------------------------------------------------------------------\u001b[0m",
      "\u001b[1;31mNameError\u001b[0m                                 Traceback (most recent call last)",
      "\u001b[1;32mc:\\Msc DS\\Speed-Estimation-of-vehicles\\preprocess.ipynb Cell 10\u001b[0m line \u001b[0;36m1\n\u001b[1;32m----> <a href='vscode-notebook-cell:/c%3A/Msc%20DS/Speed-Estimation-of-vehicles/preprocess.ipynb#X12sZmlsZQ%3D%3D?line=0'>1</a>\u001b[0m \u001b[39mfor\u001b[39;00m i \u001b[39min\u001b[39;00m os\u001b[39m.\u001b[39mlistdir(os\u001b[39m.\u001b[39mpath\u001b[39m.\u001b[39mjoin(os\u001b[39m.\u001b[39mgetcwd(),\u001b[39m'\u001b[39m\u001b[39mXMLfiles\u001b[39m\u001b[39m'\u001b[39m)):\n\u001b[0;32m      <a href='vscode-notebook-cell:/c%3A/Msc%20DS/Speed-Estimation-of-vehicles/preprocess.ipynb#X12sZmlsZQ%3D%3D?line=1'>2</a>\u001b[0m     \u001b[39mprint\u001b[39m(i)\n",
      "\u001b[1;31mNameError\u001b[0m: name 'os' is not defined"
     ]
    }
   ],
   "source": [
    "for i in os.listdir(os.path.join(os.getcwd(),'XMLfiles')):\n",
    "    print(i)"
   ]
  },
  {
   "cell_type": "code",
   "execution_count": null,
   "metadata": {},
   "outputs": [],
   "source": [
    "import shutil\n",
    "\n",
    "def copy_and_rename_file(source_path, destination_path, new_filename):\n",
    "    try:\n",
    "        # Copy the file\n",
    "        shutil.copy(source_path, destination_path)\n",
    "\n",
    "        # Create the new file path with the desired filename\n",
    "        new_file_path = f\"{destination_path}/{new_filename}\"\n",
    "\n",
    "        # Rename the copied file\n",
    "        shutil.move(f\"{destination_path}/{source_path.split('/')[-1]}\", new_file_path)\n",
    "\n",
    "        print(f\"File copied and renamed successfully to {new_file_path}\")\n",
    "\n",
    "    except Exception as e:\n",
    "        print(f\"An error occurred: {e}\")\n",
    "\n",
    "# Example usage\n",
    "source_file_path = \"/path/to/source/file.txt\"\n",
    "destination_folder = \"/path/to/destination\"\n",
    "new_file_name = \"new_file_name.txt\"\n",
    "\n",
    "copy_and_rename_file(source_file_path, destination_folder, new_file_name)\n"
   ]
  },
  {
   "cell_type": "code",
   "execution_count": 1,
   "metadata": {},
   "outputs": [
    {
     "name": "stdout",
     "output_type": "stream",
     "text": [
      "['1', '01', '1']\n",
      "['1', '01', '10']\n",
      "['1', '01', '100']\n",
      "['1', '01', '1000']\n",
      "['1', '01', '1001']\n"
     ]
    }
   ],
   "source": [
    "import re\n",
    "import os\n",
    "pat='C:\\\\Msc DS\\\\Speed-Estimation-of-vehicles\\\\labels'\n",
    "t=[]\n",
    "num=1\n",
    "for i in os.listdir(pat):\n",
    "  p=os.path.join(pat,i)\n",
    "  with open(p,'r') as r:\n",
    "    for item in r:\n",
    "      \n",
    "      if len(item.split()) <=5:\n",
    "        t.append([int(re.findall('\\d+', i)[0]),item,int('0')])\n",
    "      else:\n",
    "         aa=\" \".join([x for x in item.split()[:-1]])\n",
    "         t.append([num,aa,int(item.split()[-1])])\n",
    "  num+=1"
   ]
  },
  {
   "cell_type": "code",
   "execution_count": 16,
   "metadata": {},
   "outputs": [
    {
     "data": {
      "text/plain": [
       "[1, '0 0.405922 0.365908 0.0507517 0.0893854', 1]"
      ]
     },
     "execution_count": 16,
     "metadata": {},
     "output_type": "execute_result"
    }
   ],
   "source": [
    "t[0]"
   ]
  },
  {
   "cell_type": "code",
   "execution_count": 14,
   "metadata": {},
   "outputs": [
    {
     "name": "stdout",
     "output_type": "stream",
     "text": [
      "1 0 0.405922 0.365908 0.0507517 0.0893854 1\n",
      "\n",
      "1 0 0.532687 0.336853 0.0434442 0.0743827 2\n",
      "\n",
      "1 0 0.476854 0.903402 0.0865053 0.191574 3\n",
      "\n",
      "2 0 0.414838 0.323439 0.0484787 0.071318 1\n",
      "\n",
      "2 0 0.533175 0.308463 0.0356934 0.0596916 2\n",
      "\n",
      "2 0 0.487002 0.783657 0.0900888 0.299375 3\n",
      "\n",
      "2 0 0.375991 0.253865 0.0370993 0.044892 6\n",
      "\n",
      "3 2 0.34163 0.70192 0.0827087 0.25299 18\n",
      "\n",
      "3 0 0.481656 0.19282 0.0270491 0.032466 3\n",
      "\n",
      "3 0 0.513815 0.146085 0.0221392 0.0298708 2\n",
      "\n",
      "4 0 0.510346 0.178534 0.0310731 0.0412552 101\n",
      "\n",
      "4 2 0.369983 0.555356 0.0672267 0.162723 105\n",
      "\n",
      "4 0 0.450953 0.103897 0.0215489 0.0288698 99\n",
      "\n",
      "4 0 0.476776 0.116781 0.022085 0.0309484 100\n",
      "\n",
      "4 0 0.261841 0.636732 0.0737989 0.154386 106\n",
      "\n",
      "5 0 0.510557 0.176691 0.030957 0.0393429 101\n",
      "\n",
      "5 0 0.370476 0.545076 0.0645632 0.149846 105\n",
      "\n",
      "5 0 0.451896 0.102727 0.0213646 0.0286413 99\n",
      "\n",
      "5 0 0.476424 0.117344 0.021918 0.0308231 100\n",
      "\n",
      "5 0 0.26591 0.62334 0.0725438 0.15628 106\n",
      "\n"
     ]
    }
   ],
   "source": [
    "f=open(\"resultsossssorted.txt\",\"w\")\n",
    "for i in t:\n",
    "  try:\n",
    "    f.write(str((i)[0])+\" \"+i[1].strip()+\" \"+str((i)[2])+\"\\n\")\n",
    "    print(str((i)[0])+\" \"+i[1].strip()+\" \"+str((i)[2])+\"\\n\")\n",
    "  except:\n",
    "        f.write('0000000')"
   ]
  },
  {
   "cell_type": "code",
   "execution_count": 15,
   "metadata": {},
   "outputs": [
    {
     "data": {
      "text/plain": [
       "'0 0.532687 0.336853 0.0434442 0.0743827 0 0.532687 0.336853 0.0434442 0.0743827 2\\n'"
      ]
     },
     "execution_count": 15,
     "metadata": {},
     "output_type": "execute_result"
    }
   ],
   "source": [
    "str(t[1][1])+\" \"+t[1][1].strip()+\" \"+str(t[1][2])+\"\\n\""
   ]
  },
  {
   "cell_type": "markdown",
   "metadata": {},
   "source": [
    "xcen ycen width height\n",
    "xmin = max(0, (xcen - 0.5 * width) * img_width)\n",
    "xmax = min(img_width, (xcen + 0.5 * width) * img_width)\n",
    "ymin = max(0, (ycen - 0.5 * height) * img_height)\n",
    "ymax = min(img_height, (ycen + 0.5 * height) * img_height)\n",
    "Image width: 960, Image height: 540"
   ]
  },
  {
   "cell_type": "code",
   "execution_count": 40,
   "metadata": {},
   "outputs": [],
   "source": [
    "img_width=960\n",
    "img_height=540"
   ]
  },
  {
   "cell_type": "code",
   "execution_count": 90,
   "metadata": {},
   "outputs": [],
   "source": [
    "import re\n",
    "import os\n",
    "pat='C:\\\\Msc DS\\\\Speed-Estimation-of-vehicles\\\\labels'\n",
    "tt=[]\n",
    "num=1\n",
    "for i in os.listdir(pat):\n",
    "  p=os.path.join(pat,i)\n",
    "  with open(p,'r') as r:\n",
    "    for item in r:\n",
    "      xx=[ x for x in item.split()]\n",
    "      xmin = max(0, (float(xx[1]) - 0.5 * float(xx[3])) * img_width)\n",
    "      xmax = min(img_width, (float(xx[1]) + 0.5 * float(xx[3])) * img_width)\n",
    "      ymin = max(0, (float(xx[2]) - 0.5 * float(xx[4])) * img_height)\n",
    "      ymax = min(img_height, (float(xx[2]) + 0.5 * float(xx[4])*img_height))\n",
    "      if len(item.split()) <=5:\n",
    "        tt.append([num,item[0],xmin,xmax,ymin,ymax,int('0')])\n",
    "      else:\n",
    "        tt.append([num,item[0],xmin,xmax,ymin,ymax,int(item.split()[-1])])\n",
    "  num+=1"
   ]
  },
  {
   "cell_type": "code",
   "execution_count": 92,
   "metadata": {},
   "outputs": [
    {
     "data": {
      "text/plain": [
       "[1, '0', 365.32430400000004, 414.045936, 173.45626199999998, 24.499966, 1]"
      ]
     },
     "execution_count": 92,
     "metadata": {},
     "output_type": "execute_result"
    }
   ],
   "source": [
    "tt[0]"
   ]
  },
  {
   "cell_type": "code",
   "execution_count": 95,
   "metadata": {},
   "outputs": [
    {
     "name": "stdout",
     "output_type": "stream",
     "text": [
      "1 0 365.32430400000004 414.045936 173.45626199999998 24.499966 1\n",
      "\n",
      "1 0 490.52630400000004 532.2327359999999 161.817291 20.420182 2\n",
      "\n",
      "1 0 416.257296 499.302384 436.11210000000005 52.628381999999995 0\n",
      "\n",
      "2 0 374.974704 421.514256 155.4012 19.579299000000002 1\n",
      "\n",
      "2 0 494.71516799999995 528.980832 150.45328800000001 16.425195 2\n",
      "\n",
      "2 0 424.279296 510.764544 342.34353000000004 81.614907 3\n",
      "\n",
      "2 0 343.143696 378.75902400000007 124.96626 12.374705 6\n",
      "\n",
      "3 2 288.264624 367.66497599999997 310.7295 69.00922 18\n",
      "\n",
      "3 0 449.406192 475.373328 95.35698 8.958639999999999 3\n",
      "\n",
      "3 0 482.635584 503.88921600000003 70.820784 8.211200999999999 2\n",
      "\n",
      "4 0 475.017072 504.8472479999999 85.269456 11.317438000000001 101\n",
      "\n",
      "4 2 322.914864 387.452496 255.95703 44.49056600000001 105\n",
      "\n",
      "4 0 422.571408 443.258352 48.309534 7.8987430000000005 99\n",
      "\n",
      "4 0 447.10416 468.30575999999996 54.705672 8.472849 100\n",
      "\n",
      "4 0 215.943888 286.79083199999997 302.15106000000003 42.320952 0\n",
      "\n",
      "5 0 475.27536000000003 504.99408 84.79055699999999 10.799274 101\n",
      "\n",
      "5 0 324.666624 386.64729600000004 253.88262 41.003496000000005 105\n",
      "\n",
      "5 0 423.565152 444.075168 47.739428999999994 7.835878 99\n",
      "\n",
      "5 0 446.8464 467.88768 55.04352300000001 8.439580999999999 100\n",
      "\n",
      "5 0 220.452576 290.094624 294.408 42.81894 106\n",
      "\n"
     ]
    }
   ],
   "source": [
    "ft=open(\"resorted.txt\",\"w\")\n",
    "for i in tt:\n",
    "  try:\n",
    "    ft.write(str((i)[0])+\" \"+\" \".join([str(x) for x in i[1:-1]])+\" \"+str((i)[-1])+\"\\n\")\n",
    "    print(str((i)[0])+\" \"+\" \".join([str(x) for x in i[1:-1]])+\" \"+str((i)[-1])+\"\\n\")\n",
    "  except:\n",
    "        ft.write('0000000')"
   ]
  },
  {
   "cell_type": "code",
   "execution_count": 83,
   "metadata": {},
   "outputs": [
    {
     "data": {
      "text/plain": [
       "'5 220.452576 290.094624 294.408 42.81894 290.094624\\n'"
      ]
     },
     "execution_count": 83,
     "metadata": {},
     "output_type": "execute_result"
    }
   ],
   "source": [
    "str((i)[0])+\" \"+\" \".join([str(x) for x in i[1:-1]])+\" \"+str((i)[2])+\"\\n\""
   ]
  },
  {
   "cell_type": "code",
   "execution_count": 81,
   "metadata": {},
   "outputs": [
    {
     "ename": "TypeError",
     "evalue": "list indices must be integers or slices, not list",
     "output_type": "error",
     "traceback": [
      "\u001b[1;31m---------------------------------------------------------------------------\u001b[0m",
      "\u001b[1;31mTypeError\u001b[0m                                 Traceback (most recent call last)",
      "\u001b[1;32mc:\\Msc DS\\Speed-Estimation-of-vehicles\\preprocess.ipynb Cell 21\u001b[0m line \u001b[0;36m1\n\u001b[1;32m----> <a href='vscode-notebook-cell:/c%3A/Msc%20DS/Speed-Estimation-of-vehicles/preprocess.ipynb#X40sZmlsZQ%3D%3D?line=0'>1</a>\u001b[0m \u001b[39m\"\u001b[39m\u001b[39m \u001b[39m\u001b[39m\"\u001b[39m\u001b[39m.\u001b[39mjoin([\u001b[39mstr\u001b[39m(x) \u001b[39mfor\u001b[39;00m x \u001b[39min\u001b[39;00m tt[i][\u001b[39m1\u001b[39m:\u001b[39m-\u001b[39m\u001b[39m1\u001b[39m]])\n",
      "\u001b[1;31mTypeError\u001b[0m: list indices must be integers or slices, not list"
     ]
    }
   ],
   "source": [
    "\" \".join([str(x) for x in tt[i][1:-1]])"
   ]
  },
  {
   "cell_type": "code",
   "execution_count": null,
   "metadata": {},
   "outputs": [],
   "source": [
    "import re\n",
    "import os\n",
    "pat='C:\\\\Msc DS\\\\Speed-Estimation-of-vehicles\\\\labels'\n",
    "tt=[]\n",
    "num=1\n",
    "for i in os.listdir(pat):\n",
    "  p=os.path.join(pat,i)\n",
    "  with open(p,'r') as r:\n",
    "    for item in r:\n",
    "      xx=[ x for x in item.split()]\n",
    "      xmin = x[0]\n",
    "      xmax = x[1]\n",
    "      ymin = x[2]\n",
    "      ymax = x[3]\n",
    "      if len(item.split()) <=5:\n",
    "        tt.append([num,item[0],xmin,xmax,ymin,ymax,int('0')])\n",
    "      else:\n",
    "        tt.append([num,item[0],xmin,xmax,ymin,ymax,int(item.split()[-1])])\n",
    "  num+=1"
   ]
  },
  {
   "cell_type": "markdown",
   "metadata": {},
   "source": []
  }
 ],
 "metadata": {
  "kernelspec": {
   "display_name": "handsign",
   "language": "python",
   "name": "python3"
  },
  "language_info": {
   "codemirror_mode": {
    "name": "ipython",
    "version": 3
   },
   "file_extension": ".py",
   "mimetype": "text/x-python",
   "name": "python",
   "nbconvert_exporter": "python",
   "pygments_lexer": "ipython3",
   "version": "3.10.0"
  }
 },
 "nbformat": 4,
 "nbformat_minor": 2
}
